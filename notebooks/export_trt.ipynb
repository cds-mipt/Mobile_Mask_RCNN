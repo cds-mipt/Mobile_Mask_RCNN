{
 "cells": [
  {
   "cell_type": "code",
   "execution_count": 1,
   "metadata": {},
   "outputs": [
    {
     "name": "stderr",
     "output_type": "stream",
     "text": [
      "/usr/local/lib/python3.6/dist-packages/tensorflow/python/framework/dtypes.py:516: FutureWarning: Passing (type, 1) or '1type' as a synonym of type is deprecated; in a future version of numpy, it will be understood as (type, (1,)) / '(1,)type'.\n",
      "  _np_qint8 = np.dtype([(\"qint8\", np.int8, 1)])\n",
      "/usr/local/lib/python3.6/dist-packages/tensorflow/python/framework/dtypes.py:517: FutureWarning: Passing (type, 1) or '1type' as a synonym of type is deprecated; in a future version of numpy, it will be understood as (type, (1,)) / '(1,)type'.\n",
      "  _np_quint8 = np.dtype([(\"quint8\", np.uint8, 1)])\n",
      "/usr/local/lib/python3.6/dist-packages/tensorflow/python/framework/dtypes.py:518: FutureWarning: Passing (type, 1) or '1type' as a synonym of type is deprecated; in a future version of numpy, it will be understood as (type, (1,)) / '(1,)type'.\n",
      "  _np_qint16 = np.dtype([(\"qint16\", np.int16, 1)])\n",
      "/usr/local/lib/python3.6/dist-packages/tensorflow/python/framework/dtypes.py:519: FutureWarning: Passing (type, 1) or '1type' as a synonym of type is deprecated; in a future version of numpy, it will be understood as (type, (1,)) / '(1,)type'.\n",
      "  _np_quint16 = np.dtype([(\"quint16\", np.uint16, 1)])\n",
      "/usr/local/lib/python3.6/dist-packages/tensorflow/python/framework/dtypes.py:520: FutureWarning: Passing (type, 1) or '1type' as a synonym of type is deprecated; in a future version of numpy, it will be understood as (type, (1,)) / '(1,)type'.\n",
      "  _np_qint32 = np.dtype([(\"qint32\", np.int32, 1)])\n",
      "/usr/local/lib/python3.6/dist-packages/tensorflow/python/framework/dtypes.py:525: FutureWarning: Passing (type, 1) or '1type' as a synonym of type is deprecated; in a future version of numpy, it will be understood as (type, (1,)) / '(1,)type'.\n",
      "  np_resource = np.dtype([(\"resource\", np.ubyte, 1)])\n",
      "/usr/local/lib/python3.6/dist-packages/tensorboard/compat/tensorflow_stub/dtypes.py:541: FutureWarning: Passing (type, 1) or '1type' as a synonym of type is deprecated; in a future version of numpy, it will be understood as (type, (1,)) / '(1,)type'.\n",
      "  _np_qint8 = np.dtype([(\"qint8\", np.int8, 1)])\n",
      "/usr/local/lib/python3.6/dist-packages/tensorboard/compat/tensorflow_stub/dtypes.py:542: FutureWarning: Passing (type, 1) or '1type' as a synonym of type is deprecated; in a future version of numpy, it will be understood as (type, (1,)) / '(1,)type'.\n",
      "  _np_quint8 = np.dtype([(\"quint8\", np.uint8, 1)])\n",
      "/usr/local/lib/python3.6/dist-packages/tensorboard/compat/tensorflow_stub/dtypes.py:543: FutureWarning: Passing (type, 1) or '1type' as a synonym of type is deprecated; in a future version of numpy, it will be understood as (type, (1,)) / '(1,)type'.\n",
      "  _np_qint16 = np.dtype([(\"qint16\", np.int16, 1)])\n",
      "/usr/local/lib/python3.6/dist-packages/tensorboard/compat/tensorflow_stub/dtypes.py:544: FutureWarning: Passing (type, 1) or '1type' as a synonym of type is deprecated; in a future version of numpy, it will be understood as (type, (1,)) / '(1,)type'.\n",
      "  _np_quint16 = np.dtype([(\"quint16\", np.uint16, 1)])\n",
      "/usr/local/lib/python3.6/dist-packages/tensorboard/compat/tensorflow_stub/dtypes.py:545: FutureWarning: Passing (type, 1) or '1type' as a synonym of type is deprecated; in a future version of numpy, it will be understood as (type, (1,)) / '(1,)type'.\n",
      "  _np_qint32 = np.dtype([(\"qint32\", np.int32, 1)])\n",
      "/usr/local/lib/python3.6/dist-packages/tensorboard/compat/tensorflow_stub/dtypes.py:550: FutureWarning: Passing (type, 1) or '1type' as a synonym of type is deprecated; in a future version of numpy, it will be understood as (type, (1,)) / '(1,)type'.\n",
      "  np_resource = np.dtype([(\"resource\", np.ubyte, 1)])\n"
     ]
    }
   ],
   "source": [
    "import cv2\n",
    "import os\n",
    "import time\n",
    "import numpy as np\n",
    "import tensorflow as tf\n",
    "import time\n",
    "import collections\n",
    "import PIL\n",
    "from tensorflow.python.framework import graph_io\n",
    "from tensorflow.keras.models import load_model\n",
    "from tqdm import tqdm_notebook as tqdm\n",
    "import tensorflow.contrib.tensorrt as trt\n",
    "from tensorflow.keras.preprocessing import image\n",
    "from tensorflow.keras.applications.mobilenet_v2 import preprocess_input, decode_predictions\n",
    "import matplotlib.pyplot as plt\n",
    "import tensorflow.contrib.tensorrt as trt"
   ]
  },
  {
   "cell_type": "code",
   "execution_count": 2,
   "metadata": {},
   "outputs": [],
   "source": [
    "os.environ[\"TF_CPP_VMODULE\"] = \"segment=2,convert_graph=2,convert_nodes=2,trt_engine=2,trt_logger=2\""
   ]
  },
  {
   "cell_type": "code",
   "execution_count": 3,
   "metadata": {},
   "outputs": [],
   "source": [
    "input_names = ['input_image', 'input_image_meta']\n",
    "\n",
    "output_names = [\"detections\", \"mrcnn_class\", \"mrcnn_bbox\", \"mrcnn_mask\", \"rois\", \"rpn_class\", \"rpn_bbox\"]\n",
    "output_names = [\"output_\" + name for name in output_names]"
   ]
  },
  {
   "cell_type": "code",
   "execution_count": 4,
   "metadata": {},
   "outputs": [],
   "source": [
    "def get_frozen_graph(graph_file):\n",
    "    \"\"\"Read Frozen Graph file from disk.\"\"\"\n",
    "    with tf.gfile.GFile(graph_file, \"rb\") as f:\n",
    "        graph_def = tf.GraphDef()\n",
    "        graph_def.ParseFromString(f.read())\n",
    "    return graph_def"
   ]
  },
  {
   "cell_type": "code",
   "execution_count": 5,
   "metadata": {},
   "outputs": [
    {
     "name": "stdout",
     "output_type": "stream",
     "text": [
      "[name: \"/device:CPU:0\"\n",
      "device_type: \"CPU\"\n",
      "memory_limit: 268435456\n",
      "locality {\n",
      "}\n",
      "incarnation: 14755807762922340991\n",
      ", name: \"/device:XLA_CPU:0\"\n",
      "device_type: \"XLA_CPU\"\n",
      "memory_limit: 17179869184\n",
      "locality {\n",
      "}\n",
      "incarnation: 14644791959986232049\n",
      "physical_device_desc: \"device: XLA_CPU device\"\n",
      ", name: \"/device:XLA_GPU:0\"\n",
      "device_type: \"XLA_GPU\"\n",
      "memory_limit: 17179869184\n",
      "locality {\n",
      "}\n",
      "incarnation: 393643163421037132\n",
      "physical_device_desc: \"device: XLA_GPU device\"\n",
      ", name: \"/device:GPU:0\"\n",
      "device_type: \"GPU\"\n",
      "memory_limit: 5158019072\n",
      "locality {\n",
      "  bus_id: 1\n",
      "  links {\n",
      "  }\n",
      "}\n",
      "incarnation: 16698919545797226796\n",
      "physical_device_desc: \"device: 0, name: Xavier, pci bus id: 0000:00:00.0, compute capability: 7.2\"\n",
      "]\n"
     ]
    }
   ],
   "source": [
    "from tensorflow.python.client import device_lib\n",
    "print(device_lib.list_local_devices())"
   ]
  },
  {
   "cell_type": "code",
   "execution_count": 6,
   "metadata": {},
   "outputs": [],
   "source": [
    "# Create session and load graph\n",
    "tf_config = tf.ConfigProto(log_device_placement=True)\n",
    "tf_config.gpu_options.allow_growth = True\n",
    "# tf_sess = tf.Session(config=tf_config)"
   ]
  },
  {
   "cell_type": "markdown",
   "metadata": {},
   "source": [
    "# TRT"
   ]
  },
  {
   "cell_type": "code",
   "execution_count": 7,
   "metadata": {},
   "outputs": [],
   "source": [
    "frozen_graph = get_frozen_graph('../logs/mask_rcnn_512_cocoperson_0396.pb')"
   ]
  },
  {
   "cell_type": "code",
   "execution_count": 8,
   "metadata": {},
   "outputs": [],
   "source": [
    "for node in frozen_graph.node:\n",
    "    node.device = \"/device:XLA_GPU:0\""
   ]
  },
  {
   "cell_type": "code",
   "execution_count": 9,
   "metadata": {},
   "outputs": [],
   "source": [
    "#with tf.device(DEVICE):\n",
    "# tf.import_graph_def(frozen_graph, name='')"
   ]
  },
  {
   "cell_type": "code",
   "execution_count": 10,
   "metadata": {},
   "outputs": [],
   "source": [
    "# frozen_graph = tf.get_default_graph().as_graph_def()"
   ]
  },
  {
   "cell_type": "code",
   "execution_count": null,
   "metadata": {},
   "outputs": [],
   "source": []
  },
  {
   "cell_type": "code",
   "execution_count": 11,
   "metadata": {},
   "outputs": [],
   "source": [
    "# tf.Graph.as_graph_def()"
   ]
  },
  {
   "cell_type": "code",
   "execution_count": 9,
   "metadata": {},
   "outputs": [
    {
     "name": "stdout",
     "output_type": "stream",
     "text": [
      "INFO:tensorflow:Linked TensorRT version: (5, 1, 6)\n",
      "INFO:tensorflow:Loaded TensorRT version: (5, 1, 6)\n",
      "INFO:tensorflow:Running against TensorRT version 5.1.6\n"
     ]
    }
   ],
   "source": [
    "trt_graph = trt.create_inference_graph(\n",
    "    input_graph_def=frozen_graph,\n",
    "    outputs=output_names,\n",
    "    is_dynamic_op=True,\n",
    "    maximum_cached_engines=1,\n",
    "    max_batch_size=1,\n",
    "    max_workspace_size_bytes=1 << 30,\n",
    "    precision_mode='FP16',\n",
    "    minimum_segment_size=1,\n",
    "    session_config=tf_config\n",
    ")"
   ]
  },
  {
   "cell_type": "code",
   "execution_count": 8,
   "metadata": {},
   "outputs": [
    {
     "data": {
      "text/plain": [
       "'../logs/mask_rcnn_512_cocoperson_0396_trt.pb'"
      ]
     },
     "execution_count": 8,
     "metadata": {},
     "output_type": "execute_result"
    }
   ],
   "source": [
    "graph_io.write_graph(trt_graph, \"../logs/\",\n",
    "                     \"mask_rcnn_512_cocoperson_0396_trt.pb\", as_text=False)"
   ]
  },
  {
   "cell_type": "code",
   "execution_count": null,
   "metadata": {},
   "outputs": [],
   "source": []
  },
  {
   "cell_type": "code",
   "execution_count": 23,
   "metadata": {},
   "outputs": [],
   "source": [
    "cp = tf.ConfigProto(log_device_placement=True)"
   ]
  },
  {
   "cell_type": "code",
   "execution_count": 24,
   "metadata": {},
   "outputs": [
    {
     "data": {
      "text/plain": [
       "{'ALLOW_SOFT_PLACEMENT_FIELD_NUMBER': 7,\n",
       " 'ByteSize': <bound method _AddByteSizeMethod.<locals>.ByteSize of log_device_placement: true\n",
       " >,\n",
       " 'CLUSTER_DEF_FIELD_NUMBER': 14,\n",
       " 'Clear': <bound method _Clear of log_device_placement: true\n",
       " >,\n",
       " 'ClearExtension': <bound method Message.ClearExtension of log_device_placement: true\n",
       " >,\n",
       " 'ClearField': <bound method _AddClearFieldMethod.<locals>.ClearField of log_device_placement: true\n",
       " >,\n",
       " 'CopyFrom': <bound method Message.CopyFrom of log_device_placement: true\n",
       " >,\n",
       " 'DESCRIPTOR': <google.protobuf.descriptor.Descriptor at 0x7f4750dba8>,\n",
       " 'DEVICE_COUNT_FIELD_NUMBER': 1,\n",
       " 'DEVICE_FILTERS_FIELD_NUMBER': 4,\n",
       " 'DeviceCountEntry': tensorflow.core.protobuf.config_pb2.DeviceCountEntry,\n",
       " 'DiscardUnknownFields': <bound method _DiscardUnknownFields of log_device_placement: true\n",
       " >,\n",
       " 'EXPERIMENTAL_FIELD_NUMBER': 16,\n",
       " 'Experimental': tensorflow.core.protobuf.config_pb2.Experimental,\n",
       " 'FindInitializationErrors': <bound method _AddIsInitializedMethod.<locals>.FindInitializationErrors of log_device_placement: true\n",
       " >,\n",
       " 'FromString': <function google.protobuf.internal.python_message._AddStaticMethods.<locals>.FromString(s)>,\n",
       " 'GPU_OPTIONS_FIELD_NUMBER': 6,\n",
       " 'GRAPH_OPTIONS_FIELD_NUMBER': 10,\n",
       " 'HasExtension': <bound method Message.HasExtension of log_device_placement: true\n",
       " >,\n",
       " 'HasField': <bound method _AddHasFieldMethod.<locals>.HasField of log_device_placement: true\n",
       " >,\n",
       " 'INTER_OP_PARALLELISM_THREADS_FIELD_NUMBER': 5,\n",
       " 'INTRA_OP_PARALLELISM_THREADS_FIELD_NUMBER': 2,\n",
       " 'ISOLATE_SESSION_STATE_FIELD_NUMBER': 15,\n",
       " 'IsInitialized': <bound method _AddIsInitializedMethod.<locals>.IsInitialized of log_device_placement: true\n",
       " >,\n",
       " 'LOG_DEVICE_PLACEMENT_FIELD_NUMBER': 8,\n",
       " 'ListFields': <bound method _AddListFieldsMethod.<locals>.ListFields of log_device_placement: true\n",
       " >,\n",
       " 'MergeFrom': <bound method _AddMergeFromMethod.<locals>.MergeFrom of log_device_placement: true\n",
       " >,\n",
       " 'MergeFromString': <bound method _AddMergeFromStringMethod.<locals>.MergeFromString of log_device_placement: true\n",
       " >,\n",
       " 'OPERATION_TIMEOUT_IN_MS_FIELD_NUMBER': 11,\n",
       " 'PLACEMENT_PERIOD_FIELD_NUMBER': 3,\n",
       " 'ParseFromString': <bound method Message.ParseFromString of log_device_placement: true\n",
       " >,\n",
       " 'RPC_OPTIONS_FIELD_NUMBER': 13,\n",
       " 'RegisterExtension': <function google.protobuf.internal.python_message._AddStaticMethods.<locals>.RegisterExtension(extension_handle)>,\n",
       " 'SESSION_INTER_OP_THREAD_POOL_FIELD_NUMBER': 12,\n",
       " 'SerializePartialToString': <bound method _AddSerializePartialToStringMethod.<locals>.SerializePartialToString of log_device_placement: true\n",
       " >,\n",
       " 'SerializeToString': <bound method _AddSerializeToStringMethod.<locals>.SerializeToString of log_device_placement: true\n",
       " >,\n",
       " 'SetInParent': <bound method _AddPrivateHelperMethods.<locals>.Modified of log_device_placement: true\n",
       " >,\n",
       " 'USE_PER_SESSION_THREADS_FIELD_NUMBER': 9,\n",
       " 'UnknownFields': <bound method _UnknownFields of log_device_placement: true\n",
       " >,\n",
       " 'WhichOneof': <bound method _AddWhichOneofMethod.<locals>.WhichOneof of log_device_placement: true\n",
       " >,\n",
       " 'allow_soft_placement': False,\n",
       " 'cluster_def': ,\n",
       " 'device_count': {},\n",
       " 'device_filters': [],\n",
       " 'experimental': ,\n",
       " 'gpu_options': ,\n",
       " 'graph_options': ,\n",
       " 'inter_op_parallelism_threads': 0,\n",
       " 'intra_op_parallelism_threads': 0,\n",
       " 'isolate_session_state': False,\n",
       " 'log_device_placement': True,\n",
       " 'operation_timeout_in_ms': 0,\n",
       " 'placement_period': 0,\n",
       " 'rpc_options': ,\n",
       " 'session_inter_op_thread_pool': [],\n",
       " 'use_per_session_threads': False}"
      ]
     },
     "execution_count": 24,
     "metadata": {},
     "output_type": "execute_result"
    }
   ],
   "source": [
    "{n:getattr(cp, n) for n in dir(cp) if not n.startswith(\"_\")}"
   ]
  },
  {
   "cell_type": "code",
   "execution_count": null,
   "metadata": {},
   "outputs": [],
   "source": []
  }
 ],
 "metadata": {
  "kernelspec": {
   "display_name": "Python 3",
   "language": "python",
   "name": "python3"
  },
  "language_info": {
   "codemirror_mode": {
    "name": "ipython",
    "version": 3
   },
   "file_extension": ".py",
   "mimetype": "text/x-python",
   "name": "python",
   "nbconvert_exporter": "python",
   "pygments_lexer": "ipython3",
   "version": "3.6.8"
  }
 },
 "nbformat": 4,
 "nbformat_minor": 2
}
